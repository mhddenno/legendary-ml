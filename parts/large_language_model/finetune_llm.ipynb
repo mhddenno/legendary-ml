{
 "cells": [
  {
   "cell_type": "markdown",
   "metadata": {},
   "source": [
    "The Case Study:\n",
    "finetune Falcon LLM for creating midjourney prompt."
   ]
  },
  {
   "cell_type": "markdown",
   "metadata": {},
   "source": [
    "Input: \"Midjourney prompt for a fantasy village night\"."
   ]
  },
  {
   "cell_type": "markdown",
   "metadata": {},
   "source": [
    "Output: \"a beautiful adorable fantasy village the ground is lit like warm daylight, but the skay is dark and full of stars. Photorealistic --ar 16:9\""
   ]
  },
  {
   "cell_type": "markdown",
   "metadata": {},
   "source": [
    "First we have to choose a model, in our case we will use falcon from hugging face https://huggingface.co/tiiuae/falcon-40b "
   ]
  }
 ],
 "metadata": {
  "language_info": {
   "name": "python"
  }
 },
 "nbformat": 4,
 "nbformat_minor": 2
}
