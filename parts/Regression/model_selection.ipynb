{
 "cells": [
  {
   "cell_type": "code",
   "execution_count": 39,
   "metadata": {},
   "outputs": [],
   "source": [
    "import pandas as pd\n",
    "import numpy as np\n",
    "from sklearn.model_selection import train_test_split\n",
    "from sklearn.linear_model import LinearRegression\n",
    "from sklearn.preprocessing import PolynomialFeatures\n",
    "from sklearn.metrics import r2_score\n",
    "from sklearn.preprocessing import StandardScaler\n",
    "from sklearn.svm import SVR\n",
    "from sklearn.tree import DecisionTreeRegressor\n",
    "\n",
    "def import_dataset(path):\n",
    "    dataset = pd.read_csv(path)\n",
    "    X = dataset.iloc[:, :-1].values\n",
    "    y = dataset.iloc[:, -1].values\n",
    "    return X, y\n",
    "\n",
    "def splitting_dataset(X, y, size = 0.2, state = 0):\n",
    "    X_train, X_test, y_train, y_test = train_test_split(X, y, test_size = size, random_state = state)\n",
    "    return X_train, X_test, y_train, y_test\n",
    "\n",
    "def training_multiple_linear_regression(X_train, y_train):\n",
    "    regressor = LinearRegression()\n",
    "    regressor.fit(X_train, y_train)\n",
    "    return regressor\n",
    "\n",
    "def training_polynomial_regression(X_train, y_train, degree = 4):\n",
    "    poly_reg = PolynomialFeatures(degree = 4)\n",
    "    X_poly = poly_reg.fit_transform(X_train)\n",
    "    regressor = LinearRegression()\n",
    "    regressor.fit(X_poly, y_train)\n",
    "    return regressor, poly_reg\n",
    "\n",
    "def training_svr(X_train, y_train):\n",
    "    regressor = SVR(kernel = 'rbf')\n",
    "    regressor.fit(X_train, y_train)\n",
    "    return regressor\n",
    "\n",
    "def training_decision_tree(X_train, y_train, state = 0):\n",
    "    regressor = DecisionTreeRegressor(random_state= state)\n",
    "    regressor.fit(X_train, y_train)\n",
    "    return regressor\n",
    "\n",
    "def feature_scale(X_train, y_train):\n",
    "    sc_X = StandardScaler()\n",
    "    sc_y = StandardScaler()\n",
    "    X_train = sc_X.fit_transform(X_train)\n",
    "    y_train = sc_y.fit_transform(y_train)\n",
    "    return sc_X, sc_y, X_train, y_train\n",
    "\n",
    "def predict(regressor, X_test):\n",
    "    y_pred = regressor.predict(X_test)\n",
    "    np.set_printoptions(precision=2)\n",
    "    return y_pred\n",
    "\n",
    "def evaluate_model_performance(y_test, y_pred):\n",
    "    return r2_score(y_test, y_pred)"
   ]
  },
  {
   "cell_type": "code",
   "execution_count": 40,
   "metadata": {},
   "outputs": [
    {
     "name": "stdout",
     "output_type": "stream",
     "text": [
      "Multiple Linear Regression: 0.9325315554761302\n",
      "Polynomial Regression: 0.9458192820534183\n"
     ]
    },
    {
     "name": "stderr",
     "output_type": "stream",
     "text": [
      "/Users/mohamaddenno/Library/Caches/pypoetry/virtualenvs/legendary-ml-vETwCYDa-py3.9/lib/python3.9/site-packages/sklearn/utils/validation.py:1183: DataConversionWarning: A column-vector y was passed when a 1d array was expected. Please change the shape of y to (n_samples, ), for example using ravel().\n",
      "  y = column_or_1d(y, warn=True)\n"
     ]
    },
    {
     "name": "stdout",
     "output_type": "stream",
     "text": [
      "SVR: 0.9480784049986258\n",
      "Decision Tree: 0.922905874177941\n"
     ]
    }
   ],
   "source": [
    "# Init \n",
    "X, y = import_dataset('../../data/model_selection_data.csv')\n",
    "X_train, X_test, y_train, y_test = splitting_dataset(X, y)\n",
    "\n",
    "# Linear Regression\n",
    "\n",
    "# Multiple Linear Regression\n",
    "regressor = training_multiple_linear_regression(X_train, y_train)\n",
    "y_pred = predict(regressor, X_test)\n",
    "performance = evaluate_model_performance(y_test, y_pred)\n",
    "print('Multiple Linear Regression:', performance)\n",
    "\n",
    "# Polynomial Regression\n",
    "regressor, poly_reg = training_polynomial_regression(X_train, y_train)\n",
    "y_pred = predict(regressor, poly_reg.transform(X_test))\n",
    "performance = evaluate_model_performance(y_test, y_pred)\n",
    "print('Polynomial Regression:', performance)\n",
    "\n",
    "# Support Vector Regression SVR\n",
    "y = y.reshape(len(y),1)\n",
    "X_train, X_test, y_train, y_test = splitting_dataset(X, y)\n",
    "sc_X, sc_y, X_train, y_train = feature_scale(X_train, y_train)\n",
    "regressor = training_svr(X_train, y_train)\n",
    "y_pred = predict(regressor, sc_X.transform(X_test))\n",
    "y_pred = sc_y.inverse_transform(y_pred.reshape(-1,1))\n",
    "performance = evaluate_model_performance(y_test, y_pred)\n",
    "print('SVR:', performance)\n",
    "\n",
    "# Decision Tree\n",
    "X, y = import_dataset('../../data/model_selection_data.csv')\n",
    "X_train, X_test, y_train, y_test = splitting_dataset(X, y)\n",
    "regressor = training_decision_tree(X_train, y_train)\n",
    "y_pred = predict(regressor, X_test)\n",
    "performance = evaluate_model_performance(y_test, y_pred)\n",
    "print('Decision Tree:', performance)\n",
    "\n",
    "# Random Forest\n",
    "\n"
   ]
  }
 ],
 "metadata": {
  "kernelspec": {
   "display_name": "legendary-ml-vETwCYDa-py3.9",
   "language": "python",
   "name": "python3"
  },
  "language_info": {
   "codemirror_mode": {
    "name": "ipython",
    "version": 3
   },
   "file_extension": ".py",
   "mimetype": "text/x-python",
   "name": "python",
   "nbconvert_exporter": "python",
   "pygments_lexer": "ipython3",
   "version": "3.9.6"
  }
 },
 "nbformat": 4,
 "nbformat_minor": 2
}
